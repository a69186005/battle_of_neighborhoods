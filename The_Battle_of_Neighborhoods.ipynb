{
 "cells": [
  {
   "cell_type": "markdown",
   "metadata": {},
   "source": [
    "# Housing Sales Prices & Education Resource of Sydney"
   ]
  },
  {
   "cell_type": "markdown",
   "metadata": {},
   "source": [
    "## 1. Introduce"
   ]
  },
  {
   "cell_type": "markdown",
   "metadata": {},
   "source": [
    "### 1.1 Background"
   ]
  },
  {
   "cell_type": "markdown",
   "metadata": {},
   "source": [
    "Sydeney is one of the biggest city in Austrilia. There are more than 5 million people live in the city. Sydney is a culturally diverse city, and immigrants from all over the world come to the city every year.\n",
    "\n",
    "Immigrants who come to this city have a need to buy houses. In the process of buying a house, people often consider the education, business, life and transportation in the area where the house is located. Especially immigrants from East Asian countries, they want their children to have a good education, and they want to have good schools near where they live.\n",
    "\n",
    "Therefore, this project will analyze the data of average house prices, educational resources, living facilities and public transport in various urban areas of Sydney, so as to provide housing purchase advice for new immigrants."
   ]
  },
  {
   "cell_type": "markdown",
   "metadata": {},
   "source": [
    "###  1.2 Data Description"
   ]
  },
  {
   "cell_type": "markdown",
   "metadata": {},
   "source": [
    "The Sydney suburbs data is from \"https://en.wikipedia.org/wiki/List_of_Sydney_suburbs\".  \n",
    "The average of housing sales prices are from \"https://www.realestate.com.au/neighbourhoods/\".  \n",
    "The Ranking of school in Sydeny Data is from \"https://bettereducation.com.au/results/hsc.aspx\".  \n",
    "I'll use Google Map, ‘Search Nearby’ option to get the center coordinates of the each suburb.   \n",
    "I'll use Forsquare API to get the most common venues of given suburbs of Sydney. "
   ]
  },
  {
   "cell_type": "code",
   "execution_count": null,
   "metadata": {},
   "outputs": [],
   "source": []
  }
 ],
 "metadata": {
  "kernelspec": {
   "display_name": "data",
   "language": "python",
   "name": "data"
  },
  "language_info": {
   "codemirror_mode": {
    "name": "ipython",
    "version": 3
   },
   "file_extension": ".py",
   "mimetype": "text/x-python",
   "name": "python",
   "nbconvert_exporter": "python",
   "pygments_lexer": "ipython3",
   "version": "3.7.4"
  }
 },
 "nbformat": 4,
 "nbformat_minor": 4
}
